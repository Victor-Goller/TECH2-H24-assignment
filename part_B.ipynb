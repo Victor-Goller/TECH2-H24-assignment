{
 "cells": [
  {
   "cell_type": "markdown",
   "metadata": {},
   "source": [
    "# TECH 2 mandatory assignment - Part B\n",
    "\n",
    "Write your solution for Part B in this notebook."
   ]
  },
  {
   "cell_type": "markdown",
   "metadata": {},
   "source": [
    "### I start by acquiring the numbers from the file:"
   ]
  },
  {
   "cell_type": "code",
   "execution_count": 18,
   "metadata": {},
   "outputs": [],
   "source": [
    "from math import sqrt\n",
    "import pandas as pd\n",
    "import numpy as np\n",
    "    # I need these to compute further on\n",
    "\n",
    "# Read the data-file\n",
    "df = pd.read_csv(\"data.csv\")\n",
    "\n",
    "# Extract the first column as a list\n",
    "x1_list = df.iloc[:, 0].tolist()  # First column as a list\n",
    "\n",
    "#Extract the second column as a list\n",
    "x2_list = df.iloc[:, 1].tolist()  # Second column as a list\n",
    "\n",
    "#Extract the third column as a list\n",
    "x3_list = df.iloc[:, 2].tolist()  # Second column as a list"
   ]
  },
  {
   "cell_type": "markdown",
   "metadata": {},
   "source": [
    "## Deviation using loops\n",
    "The deviation of column 1, 2 and three, containing 100, 1000 and 10 000 numbers between 0 and 1."
   ]
  },
  {
   "cell_type": "code",
   "execution_count": 21,
   "metadata": {},
   "outputs": [
    {
     "name": "stdout",
     "output_type": "stream",
     "text": [
      "53.1 μs ± 812 ns per loop (mean ± std. dev. of 7 runs, 10,000 loops each)\n",
      "508 μs ± 10.3 μs per loop (mean ± std. dev. of 7 runs, 1,000 loops each)\n",
      "5.07 ms ± 58 μs per loop (mean ± std. dev. of 7 runs, 100 loops each)\n"
     ]
    }
   ],
   "source": [
    "from math import sqrt\n",
    "\n",
    "def std_loops(x, start, end):\n",
    "    sum_values = 0\n",
    "    squares = 0\n",
    "\n",
    "    # Slice the list to only include the values between start and end\n",
    "    interval = x[start:end]\n",
    "\n",
    "    # Loop through the interval of the list\n",
    "    for value in interval:\n",
    "        sum_values = sum_values + value  # Sum of the values\n",
    "        squares = squares + value**2   # Sum of squares of the values\n",
    "\n",
    "    # Calculate the mean value of all the values in the interval\n",
    "    mean_x = sum_values / len(interval)\n",
    "\n",
    "    # Calculate the mean of squares\n",
    "    mean_squares = squares / len(interval)\n",
    "\n",
    "    # Calculate the variance\n",
    "    variance = mean_squares - mean_x**2\n",
    "\n",
    "    # Standard deviation is the square root of variance\n",
    "    sd = sqrt(variance)\n",
    "\n",
    "    # Return the standard deviation\n",
    "    return sd\n",
    "\n",
    "# Calculating the standard deviation in desired range:\n",
    "result_x1 = std_loops(x1_list, 0, 99)    # The deviation with 100 numbers\n",
    "result_x2 = std_loops(x2_list, 0, 999)   # The deviation with 1000 numbers\n",
    "result_x3 = std_loops(x3_list, 0, 9999)  # The deviation with 10,000 numbers\n",
    "\n",
    "# Time how long it takes to calculate the standard deviation:\n",
    "%timeit std_loops(x1_list, 0, 99)    # Time the deviation with 100 numbers\n",
    "%timeit std_loops(x2_list, 0, 999)   # Time the deviation with 1000 numbers\n",
    "%timeit std_loops(x3_list, 0, 9999)  # Time the deviation with 10,000 numbers\n"
   ]
  },
  {
   "cell_type": "markdown",
   "metadata": {},
   "source": [
    "## Deviation using built-in functions"
   ]
  },
  {
   "cell_type": "code",
   "execution_count": 23,
   "metadata": {},
   "outputs": [
    {
     "name": "stdout",
     "output_type": "stream",
     "text": [
      "Standard deviation for x1_list (first 100 numbers): 0.28305669257909744\n",
      "74.3 μs ± 5.37 μs per loop (mean ± std. dev. of 7 runs, 10,000 loops each)\n",
      "680 μs ± 15.1 μs per loop (mean ± std. dev. of 7 runs, 1,000 loops each)\n",
      "6.34 ms ± 60.1 μs per loop (mean ± std. dev. of 7 runs, 100 loops each)\n"
     ]
    }
   ],
   "source": [
    "from math import sqrt\n",
    "\n",
    "def std_loops(x, start, end):\n",
    "    def square(x):\n",
    "        return x**2\n",
    "\n",
    "    # Calculate the sum of squares in the given interval\n",
    "    def sum_squares(lst, start, end):\n",
    "        return sum([square(value) for value in lst[start:end]])\n",
    "\n",
    "    # Slice the list to include only values between start and end\n",
    "    interval = x[start:end]\n",
    "\n",
    "    # Find the sum of the values\n",
    "    sum_values = sum(interval)\n",
    "\n",
    "    # Calculate the mean value\n",
    "    mean_x = sum_values / len(interval)\n",
    "\n",
    "    # Get the sum of squares\n",
    "    sum_square = sum_squares(x, start, end)\n",
    "\n",
    "    # Calculate the mean of squares\n",
    "    mean_squares = sum_square / len(interval)\n",
    "\n",
    "    # Calculate the variance\n",
    "    variance = mean_squares - mean_x**2\n",
    "\n",
    "    # Standard deviation is the square root of variance\n",
    "    sd = sqrt(variance)\n",
    "\n",
    "    # Return the standard deviation\n",
    "    return sd\n",
    "\n",
    "# Example usage with printing deviation only once\n",
    "sd_x1 = std_loops(x1_list, 0, 99)\n",
    "print(f\"Standard deviation for x1_list (first 100 numbers): {sd_x1}\")\n",
    "\n",
    "# Now use %timeit to measure execution time without printing inside the function\n",
    "%timeit std_loops(x1_list, 0, 99)    # Time the calculation with 100 numbers\n",
    "%timeit std_loops(x2_list, 0, 999)   # Time the calculation with 1000 numbers\n",
    "%timeit std_loops(x3_list, 0, 9999)  # Time the calculation with 10,000 numbers\n"
   ]
  },
  {
   "cell_type": "markdown",
   "metadata": {},
   "source": [
    "## Deviation using NumPy"
   ]
  },
  {
   "cell_type": "code",
   "execution_count": 25,
   "metadata": {},
   "outputs": [
    {
     "name": "stdout",
     "output_type": "stream",
     "text": [
      "Standard deviation for x1_array (first 100 numbers): 0.2830566925790975\n",
      "Standard deviation for x2_array (first 1000 numbers): 0.28476065029845754\n",
      "Standard deviation for x3_array (first 10000 numbers): 0.28541260900406346\n",
      "60.2 μs ± 2.54 μs per loop (mean ± std. dev. of 7 runs, 10,000 loops each)\n",
      "67.5 μs ± 5.06 μs per loop (mean ± std. dev. of 7 runs, 10,000 loops each)\n",
      "113 μs ± 4.33 μs per loop (mean ± std. dev. of 7 runs, 10,000 loops each)\n"
     ]
    }
   ],
   "source": [
    "import pandas as pd\n",
    "import numpy as np\n",
    "\n",
    "# Read the data-file\n",
    "df = pd.read_csv(\"data.csv\")\n",
    "\n",
    "# Convert the columns to NumPy arrays\n",
    "x1_array = np.array(df.iloc[:, 0])\n",
    "x2_array = np.array(df.iloc[:, 1])\n",
    "x3_array = np.array(df.iloc[:, 2])\n",
    "\n",
    "# Calculate the standard deviation using NumPy for different ranges\n",
    "sd_x1 = np.std(x1_array[0:99])  # First 100 numbers\n",
    "sd_x2 = np.std(x2_array[0:999])  # First 1000 numbers\n",
    "sd_x3 = np.std(x3_array[0:9999])  # First 10,000 numbers\n",
    "\n",
    "# Print the results\n",
    "print(f\"Standard deviation for x1_array (first 100 numbers): {sd_x1}\")\n",
    "print(f\"Standard deviation for x2_array (first 1000 numbers): {sd_x2}\")\n",
    "print(f\"Standard deviation for x3_array (first 10000 numbers): {sd_x3}\")\n",
    "\n",
    "# Time the execution using %timeit\n",
    "%timeit np.std(x1_array[0:99])    # Time the calculation with 100 numbers\n",
    "%timeit np.std(x2_array[0:999])   # Time the calculation with 1000 numbers\n",
    "%timeit np.std(x3_array[0:99999])  # Time the calculation with 10,000 numbers\n"
   ]
  },
  {
   "cell_type": "markdown",
   "metadata": {},
   "source": [
    "## Summary"
   ]
  },
  {
   "cell_type": "markdown",
   "metadata": {},
   "source": [
    "We find that the deviation is generally calculated fastest when using NumPy. This goes for larger intervals of x.\n",
    "When the interval of x is fairly small, we see that it is faster to use for-loops to calculate the deviation. When the interval is x[0,100] we see that for-loops are the fastest method. If not a small interval, for-loops are the second fastest method.\n",
    "In general, the slowest method of finding the deviation is by using Python's built-in functions. This goes for all intervals of x.\n"
   ]
  }
 ],
 "metadata": {
  "kernelspec": {
   "display_name": "Python 3 (ipykernel)",
   "language": "python",
   "name": "python3"
  },
  "language_info": {
   "codemirror_mode": {
    "name": "ipython",
    "version": 3
   },
   "file_extension": ".py",
   "mimetype": "text/x-python",
   "name": "python",
   "nbconvert_exporter": "python",
   "pygments_lexer": "ipython3",
   "version": "3.12.4"
  }
 },
 "nbformat": 4,
 "nbformat_minor": 4
}
